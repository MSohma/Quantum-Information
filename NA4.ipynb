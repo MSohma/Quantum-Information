{
  "nbformat": 4,
  "nbformat_minor": 0,
  "metadata": {
    "kernelspec": {
      "display_name": "Python 3",
      "language": "python",
      "name": "python3"
    },
    "language_info": {
      "codemirror_mode": {
        "name": "ipython",
        "version": 3
      },
      "file_extension": ".py",
      "mimetype": "text/x-python",
      "name": "python",
      "nbconvert_exporter": "python",
      "pygments_lexer": "ipython3",
      "version": "3.7.1"
    },
    "colab": {
      "name": "数値解析4_配布資料.ipynb",
      "provenance": [],
      "collapsed_sections": []
    }
  },
  "cells": [
    {
      "cell_type": "markdown",
      "metadata": {
        "id": "lN5X7waPAS_A"
      },
      "source": [
        "# 数値解析プログラミング　第４回\n",
        "\n"
      ]
    },
    {
      "cell_type": "markdown",
      "metadata": {
        "id": "NI3AcHyWbDBK"
      },
      "source": [
        "<font color=\"red\">このファイルに書かれているプログラムはすべて実行しておくこと、正しい実行結果が残っていない場合は、１箇所に付き、10点ずつ減点します。実行していてもエラーメッセージが残っているのはNＧです</font>\n",
        "\n",
        "【注意】プログラムは上から順に実行ボタンをクリックしていかないとに失敗することがあります。"
      ]
    },
    {
      "cell_type": "markdown",
      "metadata": {
        "id": "44yc1HCgqJWz"
      },
      "source": [
        "　　　　3年　3組　3番　　　　　氏名： 玉川太郎"
      ]
    },
    {
      "cell_type": "markdown",
      "metadata": {
        "id": "4JKNK1Abo3nc"
      },
      "source": [
        "## 0. 準備(プログラムを実行する前にかならず実行してください)\n",
        "この授業では、Phythonのモジュールを使ってプログラムを作ります。\n",
        "以下のセルはそのための準備です。<font color=\"red\">以下のimport 文が並んでいる部分をクリックすると\n",
        "実行ボタン（黒丸に三角のボタン）が表示されるのでそれをクリックしてPythonのモジュールを\n",
        "読み込んでおくこと。この準備をしないと、これ以降のプログラムは動作しないことがあります。</font>\n",
        "\n",
        "注意１：モジュールを読み込むだけなので実行結果はなにも表示されない\n",
        "\n",
        "注意２：作業をある程度の時間中断した場合は、再度以下のセルを実行しておかないとプログラムの実行に失敗してしまう場合があります。\n",
        "\n"
      ]
    },
    {
      "cell_type": "code",
      "metadata": {
        "id": "H26RJRzNAS_a"
      },
      "source": [
        "import numpy as np\n",
        "import matplotlib.pyplot as plt\n",
        "import numpy.matlib as mlb\n",
        "import IPython.display as idisp\n",
        "import cv2"
      ],
      "execution_count": null,
      "outputs": []
    },
    {
      "cell_type": "markdown",
      "metadata": {
        "id": "VgCVOO_6AS_a"
      },
      "source": [
        "## 2.2 画像の読み込みと合成\n"
      ]
    },
    {
      "cell_type": "markdown",
      "metadata": {
        "id": "5mkakUeEVdwz"
      },
      "source": [
        "<p><img alt=\"Colaboratory logo\" height=\"25px\" src=\"/img/colab_favicon.ico\" align=\"left\" hspace=\"10px\" vspace=\"0px\"></p>\n",
        "\n",
        "[2.2章のイントロダクションの動画](https://web.microsoftstream.com/video/8b09b557-b76e-412c-9b22-328f6d5965c1)"
      ]
    },
    {
      "cell_type": "markdown",
      "metadata": {
        "id": "bgdltaNW1tM_"
      },
      "source": [
        "ここまでは人工的に合成した画像を扱ってきたが、通常の画像を読み込んで使うことも可能である。まず、Blackboardから、画像データ（<font color=\"red\">pika.jpgとkoda.jpg</font>）をダウンロードしてくる必要がある。ただし、それだけでは画像データを処理することはできない。実は、このページのプログラムは皆さんのPCではなく、クラウド上のGoogleのコンピュータで実行されている。したがって、画像データもGoogleのコンピュータに予め送っておく必要がある。そのための手順は、1.5章の「音声データの読み込みと加工」で音声データを取り込んだ時と同じである。\n",
        "念の為、そこでの説明を以下に再掲しておく。\n",
        "\n",
        "手順１：左端のファイルマーク(下図の赤で囲われた部分)をクリックする。\n",
        "\n",
        "  <img src=\"https://drive.google.com/uc?export=view&id=1LKk6sb5O1EBajZUOkqev8mkjp6v3WMq0\" width=500>\n",
        "\n",
        "\n",
        "手順２：以下の画面となるので、アップロードボタンをクリックし、自分のPC上のファイル(pika.jpg,koda.jpg)を指定して、（GoogleのPCに）アップロードする。\n",
        "\n",
        "  <img src=\"https://drive.google.com/uc?export=view&id=1rFGGILqxrAAygiHGTHh1xArAulqxbSAs\" width=500>\n",
        "\n"
      ]
    },
    {
      "cell_type": "markdown",
      "metadata": {
        "id": "jQUCQW0AAS_c"
      },
      "source": [
        "### 2.2.1 cv2.imread "
      ]
    },
    {
      "cell_type": "markdown",
      "metadata": {
        "id": "wuv6yHZMAS_c"
      },
      "source": [
        "Python では、次のようにOpenCVの関数を用いて画像を読み込むことができる。以下のプログラムを実行してみよう。"
      ]
    },
    {
      "cell_type": "code",
      "metadata": {
        "scrolled": true,
        "id": "LHL2aIlnAS_d"
      },
      "source": [
        "I=cv2.imread(\"pika.jpg\")\n",
        "plt.imshow(I)\n",
        "plt.show()"
      ],
      "execution_count": null,
      "outputs": []
    },
    {
      "cell_type": "markdown",
      "metadata": {
        "id": "4BHAkK7YAS_f"
      },
      "source": [
        "ただし、`cv2.imread` を使って画像を読み込むと、色の情報がBGRの順に格納されてしまう。これを通常のRGBの順に直すには、`cv2.cvtColor(I,cv2.COLOR_BGR2RGB)`　を実行しなければならない。"
      ]
    },
    {
      "cell_type": "markdown",
      "metadata": {
        "id": "zxBUeBmqB6Vp"
      },
      "source": [
        "まず、以下のプログラムを実行し、正しい画像を表示させてみよう。"
      ]
    },
    {
      "cell_type": "code",
      "metadata": {
        "scrolled": true,
        "id": "y_fF6-7HAS_f"
      },
      "source": [
        "I=cv2.imread(\"pika.jpg\")\n",
        "I_RGB=cv2.cvtColor(I,cv2.COLOR_BGR2RGB)\n",
        "plt.imshow(I_RGB)\n",
        "plt.show()"
      ],
      "execution_count": null,
      "outputs": []
    },
    {
      "cell_type": "markdown",
      "metadata": {
        "id": "rQ1bOjJ2AS_h"
      },
      "source": [
        "補足：読み込みと色変換を１行にまとめて以下のように書いてもよい。以下を実行して正しく表示されているか確認しておくこと。"
      ]
    },
    {
      "cell_type": "code",
      "metadata": {
        "id": "b9bILvK3AS_i"
      },
      "source": [
        "I_RGB=cv2.cvtColor(cv2.imread(\"pika.jpg\"),cv2.COLOR_BGR2RGB)\n",
        "plt.imshow(I_RGB)\n",
        "plt.show()"
      ],
      "execution_count": null,
      "outputs": []
    },
    {
      "cell_type": "markdown",
      "metadata": {
        "id": "zsT5hwsOAS_k"
      },
      "source": [
        "また、グレースケール画像（濃淡画像）に変換するには、以下のようにすればよい。"
      ]
    },
    {
      "cell_type": "code",
      "metadata": {
        "scrolled": false,
        "id": "iXtTqZV5AS_k"
      },
      "source": [
        "I=cv2.imread(\"pika.jpg\")\n",
        "I_GRAY=cv2.cvtColor(I,cv2.COLOR_BGR2GRAY)\n",
        "plt.imshow(I_GRAY,cmap=\"gray\")\n",
        "plt.show()"
      ],
      "execution_count": null,
      "outputs": []
    },
    {
      "cell_type": "markdown",
      "metadata": {
        "id": "dd2U6WR0AS_m"
      },
      "source": [
        "または、以下のように簡単に書くことも可能である。cv2.imreadの第２引数の`0`は、グレースケール画像（濃淡画像）としての読み込みを指定している。"
      ]
    },
    {
      "cell_type": "code",
      "metadata": {
        "id": "_aIcmVkYAS_m"
      },
      "source": [
        "I_GRAY=cv2.imread(\"pika.jpg\",0)\n",
        "plt.imshow(I_GRAY,cmap=\"gray\")\n",
        "plt.show()"
      ],
      "execution_count": null,
      "outputs": []
    },
    {
      "cell_type": "markdown",
      "metadata": {
        "id": "zJJf8yR2qKLl"
      },
      "source": [
        "読み込んだ画像データの大きさを見るためには、配列名の後に`.shape`を付け加えて表示させれば良い。\n",
        "以下のプログラムを実行し確認してみよう。"
      ]
    },
    {
      "cell_type": "code",
      "metadata": {
        "id": "N96JAIKJM9i_"
      },
      "source": [
        "print(I_GRAY.shape)"
      ],
      "execution_count": null,
      "outputs": []
    },
    {
      "cell_type": "markdown",
      "metadata": {
        "id": "-pxe_qbcKvqV"
      },
      "source": [
        "### 2.2.2 グレースケール画像の繰り返し"
      ]
    },
    {
      "cell_type": "markdown",
      "metadata": {
        "id": "DfHmXLJwLKZ8"
      },
      "source": [
        "前回の授業で習ったように、mlb.repmatを使って繰り返し表示することができる。\n"
      ]
    },
    {
      "cell_type": "markdown",
      "metadata": {
        "id": "5Bj_L3vKLlib"
      },
      "source": [
        "以下は、前回の授業の課題5で取り組んだプログラムである。\n",
        "\n"
      ]
    },
    {
      "cell_type": "code",
      "metadata": {
        "id": "ORz-T0IpNitt"
      },
      "source": [
        "mat1=[[0,1],[1,1]]\n",
        "mat_rep=mlb.repmat(mat1,6,4)\n",
        "print(mat_rep)"
      ],
      "execution_count": null,
      "outputs": []
    },
    {
      "cell_type": "markdown",
      "metadata": {
        "id": "jcKt2Pq_MZOw"
      },
      "source": [
        "このプログラムでは、\n",
        "行列\n",
        "$$\n",
        "\\begin{pmatrix}\n",
        "0&1\\\\\n",
        "1&1\n",
        "\\end{pmatrix}\n",
        "$$\n",
        "を配列mat1に格納した後、\n",
        "この２次元配列を縦に6回、横に4回繰り返してできる２次元配列を出力している。\n",
        "グレースケール画像は２次元配列と全く同じなので、同じように繰り返して新しい画像を作ることができる。\n",
        "\n"
      ]
    },
    {
      "cell_type": "markdown",
      "metadata": {
        "id": "OeNupJNf3ac9"
      },
      "source": [
        "### 2.2.3 グレースケール画像の領域の切り出し"
      ]
    },
    {
      "cell_type": "markdown",
      "metadata": {
        "id": "j7Ik4z6e7Q4B"
      },
      "source": [
        "配列にスライス操作を施すことによって配列の一部分を取り出すことができる。\n",
        "以下のプログラムは、スライス操作の例である。実行して出力を確認しよう。"
      ]
    },
    {
      "cell_type": "code",
      "metadata": {
        "id": "sIJrYbCs39PH"
      },
      "source": [
        "mat1=np.array([[0,1,2,3,4],[5,6,7,8,9],[4,3,2,1,0]])\n",
        "mat2=mat1[0:2,2:4]\n",
        "print(\"元の行列\")\n",
        "print(mat1)\n",
        "print(\"スライス操作後の行列\")\n",
        "print(mat2)"
      ],
      "execution_count": null,
      "outputs": []
    },
    {
      "cell_type": "markdown",
      "metadata": {
        "id": "ECNDsnYl-Ri1"
      },
      "source": [
        "上記のプログラムで、\n",
        "```\n",
        "mat2=mat1[0:2,2:4]\n",
        "```\n",
        "がスライス操作を行っている部分である。\n",
        "```\n",
        "mat1[a:b,c:d]\n",
        "```\n",
        "とすると、mat1のa行目からb-1行目、c列目からd-1列目が切り出される。\n",
        "したがって、\n",
        "```\n",
        "mat2=mat1[0:2,2:4]　\n",
        "```\n",
        "とすると、mat1の0行目から1行目、2列目から3列目\n",
        "を切り出した、行列mat2が得られる(図１参照)。\n"
      ]
    },
    {
      "cell_type": "markdown",
      "metadata": {
        "id": "H7oC13205oVx"
      },
      "source": [
        " <center>\n",
        "  <img src=\"https://drive.google.com/uc?export=view&id=1pPFHH0LCsVaJPy-Od15Qv9HWodb4OCd9\" width=500>\n",
        "\n",
        "  図１\n",
        "\n",
        "  </center>"
      ]
    },
    {
      "cell_type": "markdown",
      "metadata": {
        "id": "UB5UBaMQCKTw"
      },
      "source": [
        "また、`0:2`、`2:4`などのように数値を指定せず。\n",
        "`:` だけを指定すると、すべての列や行を指定したことになる。以下のプログラムを実行し、\n",
        "結果を確認しなさい。"
      ]
    },
    {
      "cell_type": "code",
      "metadata": {
        "id": "C8TdTkRO8I_i"
      },
      "source": [
        "mat1=np.array([[0,1,2,3,4],[5,6,7,8,9],[4,3,2,1,0]])\n",
        "mat2=mat1[:,3:5]\n",
        "mat3=mat1[0:2,:]\n",
        "print(\"元の行列:\")\n",
        "print(mat1)\n",
        "print(\"３,４列目を取り出す\")\n",
        "print(mat2)\n",
        "print(\"0,1行目を取り出す\")\n",
        "print(mat3)"
      ],
      "execution_count": null,
      "outputs": []
    },
    {
      "cell_type": "markdown",
      "metadata": {
        "id": "zXtJD4XlCygg"
      },
      "source": [
        "また、`::-1`と指定すると数字の並びを反転させることができる。\n",
        "以下のプログラムを実行し結果を確認しなさい。"
      ]
    },
    {
      "cell_type": "code",
      "metadata": {
        "id": "lap1uXVFC9fe"
      },
      "source": [
        "mat1=np.array([[0,1,2,3,4],[5,6,7,8,9],[4,3,2,1,0]])\n",
        "mat2=mat1[:,::-1]\n",
        "mat3=mat1[::-1,:]\n",
        "mat4=mat1[::-1,::-1]\n",
        "print(\"元の行列:\")\n",
        "print(mat1)\n",
        "print(\"横方向の数字の並びを反転\")\n",
        "print(mat2)\n",
        "print(\"縦方向の数字の並びを反転\")\n",
        "print(mat3)\n",
        "print(\"横方向と縦方向の数字の並びを反転\")\n",
        "print(mat4)"
      ],
      "execution_count": null,
      "outputs": []
    },
    {
      "cell_type": "markdown",
      "metadata": {
        "id": "SPQMnOUYO0zr"
      },
      "source": [
        "### 2.2.4 グレースケール画像の貼り合わせ "
      ]
    },
    {
      "cell_type": "markdown",
      "metadata": {
        "id": "5uHiqR4MO8kl"
      },
      "source": [
        "前回の授業で学んだ np.vstack,np.hstackを用いて、グレースケール画像を張り合わせることができる。\n",
        "以下のプログラムはpika.jpgの画像とそれを上下反転させた画像を貼り合わせて出力するプログラムである。\n",
        "実行して結果を確かめてみよう。"
      ]
    },
    {
      "cell_type": "code",
      "metadata": {
        "id": "gici1HMDynXD"
      },
      "source": [
        "I_GRAY=cv2.imread(\"pika.jpg\",0)\n",
        "I_GRAY2=np.hstack((I_GRAY,I_GRAY[::-1,:]))\n",
        "plt.imshow(I_GRAY2,cmap=\"gray\")\n",
        "plt.show()"
      ],
      "execution_count": null,
      "outputs": []
    },
    {
      "cell_type": "markdown",
      "metadata": {
        "id": "bolEg6vuAS_r"
      },
      "source": [
        "### 2.2.5 カラー画像の取り扱い"
      ]
    },
    {
      "cell_type": "markdown",
      "metadata": {
        "id": "f25EJVO6AS_r"
      },
      "source": [
        "カラー画像`I_RGB`のR,G,B成分は、`I_RGB[:,:,0]`、`I_RGB[:,:,1]`、`I_RGB[:,:,2]`とするとアクセスすることができる。また、\n",
        "`I_RGB[:,:,0]`、`I_RGB[:,:,1]`、`I_RGB[:,:,2]`はグレースケール画像として扱うことができる。\n",
        "以下のプログラムを実行し確認してみよう。"
      ]
    },
    {
      "cell_type": "code",
      "metadata": {
        "scrolled": false,
        "id": "R3iZmkToAS_s"
      },
      "source": [
        "I_RGB=cv2.cvtColor(cv2.imread(\"pika.jpg\"),cv2.COLOR_BGR2RGB)\n",
        "\n",
        "print(\"Rの画像\")\n",
        "plt.imshow(I_RGB[:,:,0],cmap=\"gray\")\n",
        "plt.show()\n",
        "print(\"Gの画像\")\n",
        "plt.imshow(I_RGB[:,:,1],cmap=\"gray\")\n",
        "plt.show()\n",
        "print(\"Bの画像\")\n",
        "plt.imshow(I_RGB[:,:,2],cmap=\"gray\")\n",
        "plt.show()"
      ],
      "execution_count": null,
      "outputs": []
    },
    {
      "cell_type": "markdown",
      "metadata": {
        "id": "ksLGizNlJsiZ"
      },
      "source": [
        "もとの画像は、黄色がベースであるが、黄色はR:255,G:255,B:0の配分なので、\n",
        "RとGの画像は明るく、Bの画像は暗くなっている。"
      ]
    },
    {
      "cell_type": "markdown",
      "metadata": {
        "id": "bk20JuFMAS_t"
      },
      "source": [
        "画像のサイズの情報は、`.shape`を用いると得ることができる。\n",
        "以下のプログラムを実行してみよう。"
      ]
    },
    {
      "cell_type": "code",
      "metadata": {
        "scrolled": false,
        "id": "Z_iAKkbfAS_u"
      },
      "source": [
        "print(I_RGB.shape)"
      ],
      "execution_count": null,
      "outputs": []
    },
    {
      "cell_type": "markdown",
      "metadata": {
        "id": "hKODbc3IAS_v"
      },
      "source": [
        "上記プログラムの実行結果から、I_RGBが縦`712`画素,横`800`画素,RGBの`３`色の画像であることがわかる。"
      ]
    },
    {
      "cell_type": "markdown",
      "metadata": {
        "id": "5tetaq_ZP1V_"
      },
      "source": [
        "カラー画像に対してもスライス操作を施したり、np.hstack,np.vstatckを使って貼り合わせたりすることができる。\n",
        "np.hstack,np.vstackの使い方はグレースケール画像の場合と同じだが、スライス操作については少し違うので気をつけよう。以下のプログラムから画像に対してスライス操作を行うプログラムである。実行して動作を確認しよう。"
      ]
    },
    {
      "cell_type": "code",
      "metadata": {
        "id": "OQZEtxG5QZ0Y"
      },
      "source": [
        "I_RGB=cv2.cvtColor(cv2.imread(\"pika.jpg\"),cv2.COLOR_BGR2RGB)\n",
        "I2_RGB=I_RGB[:,::-1,:]\n",
        "plt.imshow(I2_RGB)\n",
        "plt.show()"
      ],
      "execution_count": null,
      "outputs": []
    },
    {
      "cell_type": "markdown",
      "metadata": {
        "id": "4zr_Wun-QnoX"
      },
      "source": [
        "カラー画像は3次元の配列によって表されているので\n",
        "```\n",
        "I2_RGB=I_RGB[:,::-1]\n",
        "```\n",
        "ではなく\n",
        "```\n",
        "I2_RGB=I_RGB[:,::-1,:]\n",
        "```\n",
        "のように表記しなければならない。"
      ]
    },
    {
      "cell_type": "markdown",
      "metadata": {
        "id": "8I0FgYE9nX69"
      },
      "source": [
        "## 課題"
      ]
    },
    {
      "cell_type": "markdown",
      "metadata": {
        "id": "trs7fOlBEkq3"
      },
      "source": [
        "### 課題1 (20点x2)\n",
        "(1) koda.jpg を読み込んで、グレースケール画像（濃淡画像）として表示させるプログラムを作り、実行しなさい。\n",
        "\n",
        "(2) koda.jpg を読み込んで、カラー画像として表示させるプログラムを作り、実行しなさい。"
      ]
    },
    {
      "cell_type": "code",
      "metadata": {
        "id": "gHJPzFE7FdC4"
      },
      "source": [
        "# （1）の解答\n",
        "\n",
        "\n",
        "\n",
        "\n",
        "\n",
        "\n",
        "."
      ],
      "execution_count": null,
      "outputs": []
    },
    {
      "cell_type": "code",
      "metadata": {
        "id": "AuV0jWq8FKf7"
      },
      "source": [
        "# （2）の解答\n",
        "\n",
        "\n",
        "\n",
        "\n",
        "\n",
        "."
      ],
      "execution_count": null,
      "outputs": []
    },
    {
      "cell_type": "markdown",
      "metadata": {
        "id": "34P5yJuB20O7"
      },
      "source": [
        "### 課題2 (20点)\n",
        "\n",
        "pika.jpgをグレースケール画像として読み込んで縦に2回横に6回繰り返してできる画像を表示するプログラムを作成し実行しなさい。"
      ]
    },
    {
      "cell_type": "code",
      "metadata": {
        "scrolled": false,
        "id": "HR_Fl3nfAS_p"
      },
      "source": [
        "#解答\n",
        "\n",
        "\n",
        "\n",
        "\n",
        "\n",
        "."
      ],
      "execution_count": null,
      "outputs": []
    },
    {
      "cell_type": "markdown",
      "metadata": {
        "id": "VeHGInZ8IBIu"
      },
      "source": [
        "### 課題3 (20点)\n",
        "\n",
        "pika.jpgを読み込んだ配列にスライス操作をすることにより、以下のような画像を表示するプログラムを作成し実行しなさい。\n",
        "\n",
        "なお、切り出す領域はほぼ同じであればよい。\n",
        "\n",
        "  <img src=\"https://drive.google.com/uc?export=view&id=1eGkuQ6buTourpgKSMhm0G0EGfRIFuFkj\">\n",
        "\n"
      ]
    },
    {
      "cell_type": "code",
      "metadata": {
        "scrolled": false,
        "id": "fI7ifGRI5ope"
      },
      "source": [
        "#解答欄 \n",
        "\n",
        "\n",
        "\n",
        "\n",
        "\n",
        "\n",
        "\n",
        "\n",
        "."
      ],
      "execution_count": null,
      "outputs": []
    },
    {
      "cell_type": "markdown",
      "metadata": {
        "id": "Xx1cKhoYQ7cs"
      },
      "source": [
        "### 課題4　(20点)\n",
        "\n",
        "カラー画像pika.jpgを読み込んでスライス操作やnp.hstack,np.vstackを用いて、以下のような画像を生成するプログラムを作成し実行しなさい。\n",
        "\n",
        "  <img src=\"https://drive.google.com/uc?export=view&id=1y2anuy-0KtGMhN57DYQxqQi3-lkKyR2E\">\n",
        "  "
      ]
    },
    {
      "cell_type": "code",
      "metadata": {
        "scrolled": false,
        "id": "S1abD2b7LLvI"
      },
      "source": [
        "#解答欄\n",
        "\n",
        "\n",
        "\n",
        "\n",
        "\n",
        "\n",
        "\n",
        "\n",
        "\n",
        "\n",
        "\n",
        "\n",
        "."
      ],
      "execution_count": null,
      "outputs": []
    },
    {
      "cell_type": "markdown",
      "source": [
        "【参考】画像ファイルは以下からも取得できます。\n",
        "\n",
        "[pika.jpg](https://drive.google.com/file/d/1xghMwmVb2JkQMDYANu8Z8BcDXEmT-J0j/view?usp=sharing)\n",
        "\n",
        "[koda.jpg](https://drive.google.com/file/d/1BmQrYXCfXuhV2LJT9VkokJNZdazw5PFx/view?usp=sharing)\n",
        "\n"
      ],
      "metadata": {
        "id": "y7rUBuoj69ox"
      }
    }
  ]
}